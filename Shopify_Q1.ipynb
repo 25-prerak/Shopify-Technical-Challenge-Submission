{
  "nbformat": 4,
  "nbformat_minor": 0,
  "metadata": {
    "colab": {
      "name": "Shopify.ipynb",
      "provenance": []
    },
    "kernelspec": {
      "name": "python3",
      "display_name": "Python 3"
    },
    "language_info": {
      "name": "python"
    }
  },
  "cells": [
    {
      "cell_type": "markdown",
      "source": [
        "**Summer 2022 Data Science Intern Challenge**"
      ],
      "metadata": {
        "id": "OX9l_RuwksAw"
      }
    },
    {
      "cell_type": "markdown",
      "source": [
        "#Question 1 \n",
        "\n",
        "Given some sample data, write a program to answer the following: click here to access the required data set\n",
        "\n",
        "On Shopify, we have exactly 100 sneaker shops, and each of these shops sells only one model of shoe. We want to do some analysis of the average order value (AOV). When we look at orders data over a 30 day window, we naively calculate an AOV of $3145.13. Given that we know these shops are selling sneakers, a relatively affordable item, something seems wrong with our analysis. "
      ],
      "metadata": {
        "id": "tqZHtSSmkuUg"
      }
    },
    {
      "cell_type": "markdown",
      "source": [
        "Importing the Required libraries"
      ],
      "metadata": {
        "id": "YZntzDkblRbc"
      }
    },
    {
      "cell_type": "code",
      "execution_count": 1,
      "metadata": {
        "id": "oirmnnjFTmqF"
      },
      "outputs": [],
      "source": [
        "import pandas as pd\n",
        "import numpy as np\n",
        "import matplotlib.pyplot as plt"
      ]
    },
    {
      "cell_type": "code",
      "source": [
        "df=pd.read_csv('/content/2019 Winter Data Science Intern Challenge Data Set - Sheet1.csv')"
      ],
      "metadata": {
        "id": "aINe-UATlaDo"
      },
      "execution_count": 2,
      "outputs": []
    },
    {
      "cell_type": "code",
      "source": [
        "#To check whether the dataset is loaded properly or not\n",
        "print(df.head())"
      ],
      "metadata": {
        "colab": {
          "base_uri": "https://localhost:8080/"
        },
        "id": "3aHGndVAmdzL",
        "outputId": "239098d2-c4bf-4c09-eb3b-95296080ff69"
      },
      "execution_count": 3,
      "outputs": [
        {
          "output_type": "stream",
          "name": "stdout",
          "text": [
            "   order_id  shop_id  user_id  ...  total_items  payment_method           created_at\n",
            "0         1       53      746  ...            2            cash  2017-03-13 12:36:56\n",
            "1         2       92      925  ...            1            cash  2017-03-03 17:38:52\n",
            "2         3       44      861  ...            1            cash   2017-03-14 4:23:56\n",
            "3         4       18      935  ...            1     credit_card  2017-03-26 12:43:37\n",
            "4         5       18      883  ...            1     credit_card   2017-03-01 4:35:11\n",
            "\n",
            "[5 rows x 7 columns]\n"
          ]
        }
      ]
    },
    {
      "cell_type": "code",
      "source": [
        "# Will check if any null value is present in the dataset or not\n",
        "print(df.isna().sum())"
      ],
      "metadata": {
        "colab": {
          "base_uri": "https://localhost:8080/"
        },
        "id": "n2sZH_URmfcm",
        "outputId": "46e16cb0-b811-4f1d-de74-c760105d4e85"
      },
      "execution_count": 4,
      "outputs": [
        {
          "output_type": "stream",
          "name": "stdout",
          "text": [
            "order_id          0\n",
            "shop_id           0\n",
            "user_id           0\n",
            "order_amount      0\n",
            "total_items       0\n",
            "payment_method    0\n",
            "created_at        0\n",
            "dtype: int64\n"
          ]
        }
      ]
    },
    {
      "cell_type": "markdown",
      "source": [
        "## **a. Think about what could be going wrong with our calculation. Think about a better way to evaluate this data.**"
      ],
      "metadata": {
        "id": "jXrU1r4rp8Is"
      }
    },
    {
      "cell_type": "markdown",
      "source": [
        "It is stated that, shopify has exactly 100 shops that sell exactly one type of sneakers. Now here the AOV is calculated by the formula (total(order_amount)/no. of orders)"
      ],
      "metadata": {
        "id": "h1czKp1tnVou"
      }
    },
    {
      "cell_type": "code",
      "source": [
        "print(sum(df['order_amount'])/len(df))"
      ],
      "metadata": {
        "colab": {
          "base_uri": "https://localhost:8080/"
        },
        "id": "cJVqOEGYmkhX",
        "outputId": "27344af9-8687-4039-bea4-de2873e78f15"
      },
      "execution_count": 5,
      "outputs": [
        {
          "output_type": "stream",
          "name": "stdout",
          "text": [
            "3145.128\n"
          ]
        }
      ]
    },
    {
      "cell_type": "markdown",
      "source": [
        "Now, this metric is not correct to carry out the analysis. "
      ],
      "metadata": {
        "id": "s3mvFJFaoBy1"
      }
    },
    {
      "cell_type": "markdown",
      "source": [
        "Through the help of graphs, we can check whether the data is skewed or not, ie. are there outliers present."
      ],
      "metadata": {
        "id": "Y2JmWXzQqEzJ"
      }
    },
    {
      "cell_type": "code",
      "source": [
        "plt.boxplot(df[\"order_amount\"])\n",
        "plt.show()"
      ],
      "metadata": {
        "colab": {
          "base_uri": "https://localhost:8080/",
          "height": 265
        },
        "id": "nBg5TCGqqQ7d",
        "outputId": "8abe8c0f-bfcd-43ee-f4d5-523afd9c33e0"
      },
      "execution_count": 6,
      "outputs": [
        {
          "output_type": "display_data",
          "data": {
            "image/png": "[encoded data removed]",
            "text/plain": [
              "<Figure size 432x288 with 1 Axes>"
            ]
          },
          "metadata": {
            "needs_background": "light"
          }
        }
      ]
    },
    {
      "cell_type": "markdown",
      "source": [
        "Cleary it can be seen from the graph that there are outlier values present, where order amount is greater than 700000, which is far away. So, it can be said that mean(AOV) is not a correct metric."
      ],
      "metadata": {
        "id": "H1ltb9cfraot"
      }
    },
    {
      "cell_type": "markdown",
      "source": [
        "## **b. What metric would you report for this dataset?**"
      ],
      "metadata": {
        "id": "dMzPaQzCrwWq"
      }
    },
    {
      "cell_type": "markdown",
      "source": [
        "A correct metric for this dataset will be the median value of order_amount. "
      ],
      "metadata": {
        "id": "HaxFf1v4ry26"
      }
    },
    {
      "cell_type": "code",
      "source": [
        "print(df['order_amount'].median())"
      ],
      "metadata": {
        "colab": {
          "base_uri": "https://localhost:8080/"
        },
        "id": "e7SSA9oon7kN",
        "outputId": "abb4a291-ad44-42f9-f2ad-b4fcfa210a6a"
      },
      "execution_count": 7,
      "outputs": [
        {
          "output_type": "stream",
          "name": "stdout",
          "text": [
            "284.0\n"
          ]
        }
      ]
    },
    {
      "cell_type": "code",
      "source": [
        "plt.figure(figsize=(10,14))\n",
        "plt.hist(df['order_amount'])"
      ],
      "metadata": {
        "colab": {
          "base_uri": "https://localhost:8080/",
          "height": 913
        },
        "id": "XtgoPl8msA6O",
        "outputId": "d0e33b6b-5af7-409f-de64-a13ec0ecc4e7"
      },
      "execution_count": 8,
      "outputs": [
        {
          "output_type": "execute_result",
          "data": {
            "text/plain": [
              "(array([4.972e+03, 1.000e+01, 1.000e+00, 0.000e+00, 0.000e+00, 0.000e+00,\n",
              "        0.000e+00, 0.000e+00, 0.000e+00, 1.700e+01]),\n",
              " array([9.00000e+01, 7.04810e+04, 1.40872e+05, 2.11263e+05, 2.81654e+05,\n",
              "        3.52045e+05, 4.22436e+05, 4.92827e+05, 5.63218e+05, 6.33609e+05,\n",
              "        7.04000e+05]),\n",
              " <a list of 10 Patch objects>)"
            ]
          },
          "metadata": {},
          "execution_count": 8
        },
        {
          "output_type": "display_data",
          "data": {
            "image/png": "[encoded data removed]",
            "text/plain": [
              "<Figure size 720x1008 with 1 Axes>"
            ]
          },
          "metadata": {
            "needs_background": "light"
          }
        }
      ]
    },
    {
      "cell_type": "markdown",
      "source": [
        "From the graph it can be clearly seen that the data is skewed, if we remove the outliers then the results can be improved.\n",
        "\n",
        "So, **Median** would be a proper metric for this dataset. "
      ],
      "metadata": {
        "id": "JObknuNPs7q1"
      }
    },
    {
      "cell_type": "markdown",
      "source": [
        "##c. What is its value?"
      ],
      "metadata": {
        "id": "-Y9OMGrLtgxn"
      }
    },
    {
      "cell_type": "code",
      "source": [
        "df['order_amount'].median()"
      ],
      "metadata": {
        "colab": {
          "base_uri": "https://localhost:8080/"
        },
        "id": "IdipeltQsZcr",
        "outputId": "28ecf83a-f29e-4684-c1d0-db3c1cc819b1"
      },
      "execution_count": 9,
      "outputs": [
        {
          "output_type": "execute_result",
          "data": {
            "text/plain": [
              "284.0"
            ]
          },
          "metadata": {},
          "execution_count": 9
        }
      ]
    },
    {
      "cell_type": "code",
      "source": [
        ""
      ],
      "metadata": {
        "id": "AZhuYxkFtnki"
      },
      "execution_count": 9,
      "outputs": []
    }
  ]
}